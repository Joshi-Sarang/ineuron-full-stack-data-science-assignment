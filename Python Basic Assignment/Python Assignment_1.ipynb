{
 "cells": [
  {
   "cell_type": "markdown",
   "metadata": {},
   "source": [
    "### 1. Values vs Expressions:\n",
    "- **Values**: `'hello'`, `-87.8`, `6`\n",
    "- **Expressions**: `-`, `/`, `+` (these are operators used in calculations or operations)\n"
   ]
  },
  {
   "cell_type": "markdown",
   "metadata": {},
   "source": [
    "### 2. Difference Between String and Variable:\n",
    "- **String**: A string is a sequence of characters enclosed in quotes (either single or double quotes), such as `'hello'`. It is a data type that represents text.\n",
    "- **Variable**: A variable is a named location used to store data that can change during the program's execution. Variables hold values of any data type (e.g., integers, strings, lists).\n"
   ]
  },
  {
   "cell_type": "markdown",
   "metadata": {},
   "source": [
    "### 3. Three Different Data Types:\n",
    "1. **Integer (int)**: Whole numbers, such as `5`, `-3`, or `100`.\n",
    "2. **Float (float)**: Numbers with decimal points, like `3.14`, `-0.01`, or `99.9`.\n",
    "3. **String (str)**: Sequences of characters, enclosed in quotes, like `'hello'`, `'123'`, or `'world'`.\n"
   ]
  },
  {
   "cell_type": "markdown",
   "metadata": {},
   "source": [
    "### 4. What is an Expression Made Up Of? What Do All Expressions Do?\n",
    "- **An expression** is made up of values, variables, and operators that evaluate to a single value.\n",
    "- **What they do**: Expressions perform operations, such as mathematical calculations or logical comparisons, and return a result.\n"
   ]
  },
  {
   "cell_type": "markdown",
   "metadata": {},
   "source": [
    "### 5. Difference Between an Expression and a Statement:\n",
    "- **Expression**: Something that produces a value. For example, `2 + 2` or `spam * 2`.\n",
    "- **Statement**: A line of code that performs an action but doesn't return a value. For example, `spam = 10` or `print('Hello')`.\n"
   ]
  },
  {
   "cell_type": "markdown",
   "metadata": {},
   "source": [
    "### 6. After Running the Following Code, What Does the Variable `bacon` Contain?\n",
    "```python\n",
    "bacon = 22\n",
    "bacon + 1\n",
    "```\n",
    "- The variable `bacon` will still contain `22`. The expression `bacon + 1` calculates `23` but doesn't assign it back to the variable `bacon`. To update `bacon`, you need to do `bacon = bacon + 1`.\n"
   ]
  },
  {
   "cell_type": "markdown",
   "metadata": {},
   "source": [
    "### 7. What Should the Values of the Following Two Terms Be?\n",
    "```python\n",
    "'spam' + 'spamspam'  # Concatenates the two strings\n",
    "'spam' * 3           # Repeats the string 3 times\n",
    "```\n",
    "- `'spam' + 'spamspam'` will be `'spamspamspam'`.\n",
    "- `'spam' * 3` will be `'spamspamspam'`.\n"
   ]
  },
  {
   "cell_type": "markdown",
   "metadata": {},
   "source": [
    "### 8. Why is `eggs` a Valid Variable Name While `100` is Invalid?\n",
    "- **`eggs`** is a valid variable name because it follows the rules: it starts with a letter and consists of letters and/or numbers.\n",
    "- **`100`** is invalid because variable names cannot start with a number. They must begin with a letter or an underscore.\n"
   ]
  },
  {
   "cell_type": "markdown",
   "metadata": {},
   "source": [
    "### 9. What Three Functions Can Be Used to Get the Integer, Floating-Point Number, or String Version of a Value?\n",
    "1. **`int()`**: Converts a value to an integer.\n",
    "2. **`float()`**: Converts a value to a floating-point number.\n",
    "3. **`str()`**: Converts a value to a string.\n"
   ]
  },
  {
   "cell_type": "markdown",
   "metadata": {},
   "source": [
    "### 10. Why Does This Expression Cause an Error? How Can You Fix It?\n",
    "```python\n",
    "'I have eaten ' + 99 + ' burritos.'\n",
    "```\n",
    "- This causes an error because `99` is an integer, and you can't concatenate a string and an integer directly.\n",
    "- To fix it, you need to convert the integer to a string:\n",
    "```python\n",
    "'I have eaten ' + str(99) + ' burritos.'\n",
    "```"
   ]
  }
 ],
 "metadata": {
  "kernelspec": {
   "display_name": "Python 3",
   "language": "python",
   "name": "python3"
  },
  "language_info": {
   "codemirror_mode": {
    "name": "ipython",
    "version": 3
   },
   "file_extension": ".py",
   "mimetype": "text/x-python",
   "name": "python",
   "nbconvert_exporter": "python",
   "version": "3.12.4"
  }
 },
 "nbformat": 4,
 "nbformat_minor": 5
}
