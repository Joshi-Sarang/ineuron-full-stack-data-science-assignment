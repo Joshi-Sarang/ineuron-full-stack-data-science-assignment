{
  "cells": [
    {
      "cell_type": "markdown",
      "metadata": {},
      "source": [
        "# Object-Oriented Programming (OOP)"
      ]
    },
    {
      "cell_type": "markdown",
      "metadata": {},
      "source": [
        "**1. What is the primary goal of Object-Oriented Programming (OOP)?**"
      ]
    },
    {
      "cell_type": "markdown",
      "metadata": {},
      "source": [
        "The primary goal of OOP is to structure programs using objects, promoting code reusability, modularity, and organization."
      ]
    },
    {
      "cell_type": "markdown",
      "metadata": {},
      "source": [
        "**2. What is an object in Python?**"
      ]
    },
    {
      "cell_type": "markdown",
      "metadata": {},
      "source": [
        "An object is an instance of a class that encapsulates data (attributes) and behaviors (methods)."
      ]
    },
    {
      "cell_type": "markdown",
      "metadata": {},
      "source": [
        "**3. What is a class in Python?**"
      ]
    },
    {
      "cell_type": "markdown",
      "metadata": {},
      "source": [
        "A class is a blueprint for creating objects, defining attributes and methods common to all objects of that type."
      ]
    },
    {
      "cell_type": "markdown",
      "metadata": {},
      "source": [
        "**4. What are attributes and methods in a class?**"
      ]
    },
    {
      "cell_type": "markdown",
      "metadata": {},
      "source": [
        "- Attributes: Variables that store data about an object.\n",
        "- Methods: Functions defined in a class that describe the behaviors of an object."
      ]
    },
    {
      "cell_type": "markdown",
      "metadata": {},
      "source": [
        "**5. Difference between class variables and instance variables in Python?**"
      ]
    },
    {
      "cell_type": "markdown",
      "metadata": {},
      "source": [
        "- Class variables: Shared among all instances of a class.\n",
        "- Instance variables: Unique to each instance of a class."
      ]
    },
    {
      "cell_type": "markdown",
      "metadata": {},
      "source": [
        "**6. Purpose of the self parameter in Python class methods?**"
      ]
    },
    {
      "cell_type": "markdown",
      "metadata": {},
      "source": [
        "The `self` parameter represents the instance of the class, allowing access to instance attributes and methods."
      ]
    },
    {
      "cell_type": "markdown",
      "metadata": {},
      "source": [
        "**7. Book class implementation**"
      ]
    },
    {
      "cell_type": "code",
      "execution_count": 1,
      "metadata": {},
      "outputs": [
        {
          "name": "stdout",
          "output_type": "stream",
          "text": [
            "Title: 1984\n",
            "Author: George Orwell\n",
            "ISBN: 123456789\n",
            "Publication Year: 1949\n",
            "Available Copies: 5\n",
            "Book '1984' checked out successfully.\n",
            "Title: 1984\n",
            "Author: George Orwell\n",
            "ISBN: 123456789\n",
            "Publication Year: 1949\n",
            "Available Copies: 4\n",
            "Book '1984' returned successfully.\n",
            "Title: 1984\n",
            "Author: George Orwell\n",
            "ISBN: 123456789\n",
            "Publication Year: 1949\n",
            "Available Copies: 5\n"
          ]
        }
      ],
      "source": [
        "class Book:\n",
        "    def __init__(self, title, author, isbn, publication_year, available_copies):\n",
        "        self.title = title\n",
        "        self.author = author\n",
        "        self.isbn = isbn\n",
        "        self.publication_year = publication_year\n",
        "        self.available_copies = available_copies\n",
        "\n",
        "    def check_out(self):\n",
        "        if self.available_copies > 0:\n",
        "            self.available_copies -= 1\n",
        "            print(f\"Book '{self.title}' checked out successfully.\")\n",
        "        else:\n",
        "            print(\"No copies available for checkout.\")\n",
        "\n",
        "    def return_book(self):\n",
        "        self.available_copies += 1\n",
        "        print(f\"Book '{self.title}' returned successfully.\")\n",
        "\n",
        "    def display_book_info(self):\n",
        "        print(f\"Title: {self.title}\")\n",
        "        print(f\"Author: {self.author}\")\n",
        "        print(f\"ISBN: {self.isbn}\")\n",
        "        print(f\"Publication Year: {self.publication_year}\")\n",
        "        print(f\"Available Copies: {self.available_copies}\")\n",
        "\n",
        "# Example usage:\n",
        "book1 = Book(\"1984\", \"George Orwell\", \"123456789\", 1949, 5)\n",
        "book1.display_book_info()\n",
        "book1.check_out()\n",
        "book1.display_book_info()\n",
        "book1.return_book()\n",
        "book1.display_book_info()"
      ]
    },
    {
      "cell_type": "markdown",
      "metadata": {},
      "source": [
        "**8. Ticket class implementation**"
      ]
    },
    {
      "cell_type": "code",
      "execution_count": 2,
      "metadata": {},
      "outputs": [
        {
          "name": "stdout",
          "output_type": "stream",
          "text": [
            "Ticket ID: 101\n",
            "Event Name: Concert Night\n",
            "Event Date: 2025-06-15\n",
            "Venue: Stadium A\n",
            "Seat Number: B12\n",
            "Price: $50.0\n",
            "Reserved: No\n",
            "Ticket 101 for 'Concert Night' has been reserved.\n",
            "Ticket ID: 101\n",
            "Event Name: Concert Night\n",
            "Event Date: 2025-06-15\n",
            "Venue: Stadium A\n",
            "Seat Number: B12\n",
            "Price: $50.0\n",
            "Reserved: Yes\n",
            "Reservation for ticket 101 has been canceled.\n",
            "Ticket ID: 101\n",
            "Event Name: Concert Night\n",
            "Event Date: 2025-06-15\n",
            "Venue: Stadium A\n",
            "Seat Number: B12\n",
            "Price: $50.0\n",
            "Reserved: No\n"
          ]
        }
      ],
      "source": [
        "class Ticket:\n",
        "    def __init__(self, ticket_id, event_name, event_date, venue, seat_number, price, is_reserved=False):\n",
        "        self.ticket_id = ticket_id\n",
        "        self.event_name = event_name\n",
        "        self.event_date = event_date\n",
        "        self.venue = venue\n",
        "        self.seat_number = seat_number\n",
        "        self.price = price\n",
        "        self.is_reserved = is_reserved\n",
        "\n",
        "    def reserve_ticket(self):\n",
        "        if not self.is_reserved:\n",
        "            self.is_reserved = True\n",
        "            print(f\"Ticket {self.ticket_id} for '{self.event_name}' has been reserved.\")\n",
        "        else:\n",
        "            print(f\"Ticket {self.ticket_id} is already reserved.\")\n",
        "\n",
        "    def cancel_reservation(self):\n",
        "        if self.is_reserved:\n",
        "            self.is_reserved = False\n",
        "            print(f\"Reservation for ticket {self.ticket_id} has been canceled.\")\n",
        "        else:\n",
        "            print(f\"Ticket {self.ticket_id} is not reserved.\")\n",
        "\n",
        "    def display_ticket_info(self):\n",
        "        print(f\"Ticket ID: {self.ticket_id}\")\n",
        "        print(f\"Event Name: {self.event_name}\")\n",
        "        print(f\"Event Date: {self.event_date}\")\n",
        "        print(f\"Venue: {self.venue}\")\n",
        "        print(f\"Seat Number: {self.seat_number}\")\n",
        "        print(f\"Price: ${self.price}\")\n",
        "        print(f\"Reserved: {'Yes' if self.is_reserved else 'No'}\")\n",
        "\n",
        "# Example usage:\n",
        "ticket1 = Ticket(101, \"Concert Night\", \"2025-06-15\", \"Stadium A\", \"B12\", 50.0)\n",
        "ticket1.display_ticket_info()\n",
        "ticket1.reserve_ticket()\n",
        "ticket1.display_ticket_info()\n",
        "ticket1.cancel_reservation()\n",
        "ticket1.display_ticket_info()"
      ]
    },
    {
      "cell_type": "markdown",
      "metadata": {},
      "source": [
        "**9. Shopping Cart for an E-commerce Website**"
      ]
    },
    {
      "cell_type": "code",
      "execution_count": 3,
      "metadata": {},
      "outputs": [
        {
          "name": "stdout",
          "output_type": "stream",
          "text": [
            "'Laptop' has been added to the cart.\n",
            "'Headphones' has been added to the cart.\n",
            "Items in your shopping cart:\n",
            "1. Laptop\n",
            "2. Headphones\n",
            "'Laptop' has been removed from the cart.\n",
            "Items in your shopping cart:\n",
            "1. Headphones\n",
            "Your shopping cart has been emptied.\n",
            "Your shopping cart is empty.\n"
          ]
        }
      ],
      "source": [
        "class ShoppingCart:\n",
        "    def __init__(self):\n",
        "        \"\"\"Initialize an empty shopping cart\"\"\"\n",
        "        self.items = []\n",
        "\n",
        "    def add_item(self, item):\n",
        "        \"\"\"Adds an item to the shopping cart\"\"\"\n",
        "        self.items.append(item)\n",
        "        print(f\"'{item}' has been added to the cart.\")\n",
        "\n",
        "    def remove_item(self, item):\n",
        "        \"\"\"Removes an item from the shopping cart if it exists\"\"\"\n",
        "        if item in self.items:\n",
        "            self.items.remove(item)\n",
        "            print(f\"'{item}' has been removed from the cart.\")\n",
        "        else:\n",
        "            print(f\"'{item}' not found in the cart.\")\n",
        "\n",
        "    def view_cart(self):\n",
        "        \"\"\"Displays all items in the shopping cart\"\"\"\n",
        "        if self.items:\n",
        "            print(\"Items in your shopping cart:\")\n",
        "            for index, item in enumerate(self.items, start=1):\n",
        "                print(f\"{index}. {item}\")\n",
        "        else:\n",
        "            print(\"Your shopping cart is empty.\")\n",
        "\n",
        "    def clear_cart(self):\n",
        "        \"\"\"Clears all items from the shopping cart\"\"\"\n",
        "        self.items = []\n",
        "        print(\"Your shopping cart has been emptied.\")\n",
        "\n",
        "# Example Usage:\n",
        "cart = ShoppingCart()\n",
        "cart.add_item(\"Laptop\")\n",
        "cart.add_item(\"Headphones\")\n",
        "cart.view_cart()\n",
        "cart.remove_item(\"Laptop\")\n",
        "cart.view_cart()\n",
        "cart.clear_cart()\n",
        "cart.view_cart()"
      ]
    },
    {
      "cell_type": "markdown",
      "metadata": {},
      "source": [
        "**10. Student Class for a School Management System**"
      ]
    },
    {
      "cell_type": "code",
      "execution_count": 4,
      "metadata": {},
      "outputs": [
        {
          "name": "stdout",
          "output_type": "stream",
          "text": [
            "Attendance for John Doe on 2025-02-01 recorded as: Present\n",
            "Attendance for John Doe on 2025-02-02 recorded as: Absent\n",
            "Attendance for John Doe on 2025-02-03 recorded as: Present\n",
            "\n",
            "Student Information:\n",
            "Name: John Doe\n",
            "Age: 16\n",
            "Grade: 10th Grade\n",
            "Student ID: S12345\n",
            "Attendance Percentage: 66.67%\n",
            "\n",
            "Attendance Records: {'2025-02-01': 'Present', '2025-02-02': 'Absent', '2025-02-03': 'Present'}\n",
            "Average Attendance: 66.67%\n"
          ]
        }
      ],
      "source": [
        "class Student:\n",
        "    def __init__(self, name, age, grade, student_id):\n",
        "        \"\"\"Initialize the Student object with attributes\"\"\"\n",
        "        self.name = name\n",
        "        self.age = age\n",
        "        self.grade = grade\n",
        "        self.student_id = student_id\n",
        "        self.attendance = {}  # Dictionary to store attendance records\n",
        "\n",
        "    def update_attendance(self, date, status):\n",
        "        \"\"\"\n",
        "        Updates the attendance record of the student.\n",
        "        :param date: The date of attendance (string format: 'YYYY-MM-DD')\n",
        "        :param status: Attendance status ('Present' or 'Absent')\n",
        "        \"\"\"\n",
        "        self.attendance[date] = status\n",
        "        print(f\"Attendance for {self.name} on {date} recorded as: {status}\")\n",
        "\n",
        "    def get_attendance(self):\n",
        "        \"\"\"\n",
        "        Returns the attendance record of the student.\n",
        "        \"\"\"\n",
        "        return self.attendance\n",
        "\n",
        "    def get_average_attendance(self):\n",
        "        \"\"\"\n",
        "        Calculates and returns the average attendance percentage of the student.\n",
        "        \"\"\"\n",
        "        if not self.attendance:\n",
        "            return 0  # If no attendance records, return 0%\n",
        "        \n",
        "        total_days = len(self.attendance)\n",
        "        present_days = sum(1 for status in self.attendance.values() if status.lower() == \"present\")\n",
        "        \n",
        "        attendance_percentage = (present_days / total_days) * 100\n",
        "        return attendance_percentage\n",
        "\n",
        "    def display_student_info(self):\n",
        "        \"\"\"\n",
        "        Displays student details and attendance percentage.\n",
        "        \"\"\"\n",
        "        print(\"\\nStudent Information:\")\n",
        "        print(f\"Name: {self.name}\")\n",
        "        print(f\"Age: {self.age}\")\n",
        "        print(f\"Grade: {self.grade}\")\n",
        "        print(f\"Student ID: {self.student_id}\")\n",
        "        print(f\"Attendance Percentage: {self.get_average_attendance():.2f}%\\n\")\n",
        "\n",
        "\n",
        "# Example Usage:\n",
        "student1 = Student(\"John Doe\", 16, \"10th Grade\", \"S12345\")\n",
        "\n",
        "# Updating attendance records\n",
        "student1.update_attendance(\"2025-02-01\", \"Present\")\n",
        "student1.update_attendance(\"2025-02-02\", \"Absent\")\n",
        "student1.update_attendance(\"2025-02-03\", \"Present\")\n",
        "\n",
        "# Displaying student information\n",
        "student1.display_student_info()\n",
        "\n",
        "# Viewing attendance records\n",
        "print(\"Attendance Records:\", student1.get_attendance())\n",
        "\n",
        "# Getting average attendance percentage\n",
        "print(f\"Average Attendance: {student1.get_average_attendance():.2f}%\")"
      ]
    }
  ],
  "metadata": {
    "kernelspec": {
      "display_name": "ensoapis",
      "language": "python",
      "name": "python3"
    },
    "language_info": {
      "codemirror_mode": {
        "name": "ipython",
        "version": 3
      },
      "file_extension": ".py",
      "mimetype": "text/x-python",
      "name": "python",
      "nbconvert_exporter": "python",
      "pygments_lexer": "ipython3",
      "version": "3.10.14"
    }
  },
  "nbformat": 4,
  "nbformat_minor": 4
}
