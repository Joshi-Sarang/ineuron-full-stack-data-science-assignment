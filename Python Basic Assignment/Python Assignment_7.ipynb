{
 "cells": [
  {
   "cell_type": "markdown",
   "metadata": {},
   "source": [
    "### Q1. Create two int type variables, apply addition, subtraction, division, and multiplication, and store the results in variables. Then print the data in the following format by calling the variables:"
   ]
  },
  {
   "cell_type": "code",
   "execution_count": 4,
   "metadata": {},
   "outputs": [
    {
     "name": "stdout",
     "output_type": "stream",
     "text": [
      "0\n",
      "1\n",
      "2\n",
      "3\n",
      "4\n",
      "\n",
      "First variable is 12 & second variable is 8.\n",
      "Addition: 12 + 8 = 20\n",
      "Subtraction: 12 - 8 = 4\n",
      "Multiplication: 12 * 8 = 96\n",
      "Division: 12 / 8 = 1.5\n"
     ]
    }
   ],
   "source": [
    "for i in range(5):  # Generates numbers 0 to 4\n",
    "    print(i)\n",
    "# Define two int type variables\n",
    "a = 12\n",
    "b = 8\n",
    "\n",
    "# Apply operations and store results in variables\n",
    "addition = a + b\n",
    "subtraction = a - b\n",
    "multiplication = a * b\n",
    "division = a / b\n",
    "\n",
    "# Print the results in the specified format\n",
    "print()\n",
    "print(f\"First variable is {a} & second variable is {b}.\")\n",
    "print(f\"Addition: {a} + {b} = {addition}\")\n",
    "print(f\"Subtraction: {a} - {b} = {subtraction}\")\n",
    "print(f\"Multiplication: {a} * {b} = {multiplication}\")\n",
    "print(f\"Division: {a} / {b} = {division}\")"
   ]
  },
  {
   "cell_type": "markdown",
   "metadata": {},
   "source": [
    "### Q2. What is the difference between the following operators:\n",
    "(i) `/` & `//`\n",
    "(ii) `**` & `^`"
   ]
  },
  {
   "cell_type": "markdown",
   "metadata": {},
   "source": [
    "**(i) `/` & `//`:**\n",
    "- `/` is the division operator. It performs floating-point division.\n",
    "  ```python\n",
    "  5 / 2  # Output: 2.5\n",
    "  ```\n",
    "- `//` is the floor division operator. It performs integer division and rounds down to the nearest whole number.\n",
    "  ```python\n",
    "  5 // 2  # Output: 2\n",
    "  ```"
   ]
  },
  {
   "cell_type": "markdown",
   "metadata": {},
   "source": [
    "**(ii) `**` & `^`:**\n",
    "- `**` is the exponentiation operator. It raises the left operand to the power of the right operand.\n",
    "  ```python\n",
    "  2 ** 3  # Output: 8\n",
    "  ```\n",
    "- `^` is the bitwise XOR operator. It performs a bitwise XOR operation on the operands.\n",
    "  ```python\n",
    "  2 ^ 3  # Output: 1 (binary: 10 ^ 11 = 01)\n",
    "  ```"
   ]
  },
  {
   "cell_type": "markdown",
   "metadata": {},
   "source": [
    "### Q3. List the logical operators."
   ]
  },
  {
   "cell_type": "markdown",
   "metadata": {},
   "source": [
    "Logical operators in Python are:\n",
    "- `and`: Returns True if both operands are True.\n",
    "- `or`: Returns True if at least one operand is True.\n",
    "- `not`: Returns True if the operand is False."
   ]
  },
  {
   "cell_type": "markdown",
   "metadata": {},
   "source": [
    "### Q4. Explain right shift operator and left shift operator with examples."
   ]
  },
  {
   "cell_type": "markdown",
   "metadata": {},
   "source": [
    "**Right Shift Operator (`>>`):**\n",
    "- The right shift operator shifts the bits of a number to the right by the specified number of positions.\n",
    "  ```python\n",
    "  a = 8  # Binary: 1000\n",
    "  result = a >> 2  # Shifts bits to the right by 2 positions, result: 2 (Binary: 10)\n",
    "  print(result)\n",
    "  ```\n",
    "\n",
    "**Left Shift Operator (`<<`):**\n",
    "- The left shift operator shifts the bits of a number to the left by the specified number of positions.\n",
    "  ```python\n",
    "  a = 3  # Binary: 11\n",
    "  result = a << 2  # Shifts bits to the left by 2 positions, result: 12 (Binary: 1100)\n",
    "  print(result)\n",
    "  ```"
   ]
  },
  {
   "cell_type": "markdown",
   "metadata": {},
   "source": [
    "### Q5. Create a list containing int type data of length 15. Then write a code to check if 10 is present in the list or not."
   ]
  },
  {
   "cell_type": "code",
   "execution_count": 5,
   "metadata": {},
   "outputs": [
    {
     "name": "stdout",
     "output_type": "stream",
     "text": [
      "10 is present in the list.\n"
     ]
    }
   ],
   "source": [
    "# Create a list containing int type data of length 15\n",
    "my_list = [1, 2, 3, 4, 5, 6, 7, 8, 9, 10, 11, 12, 13, 14, 15]\n",
    "\n",
    "# Check if 10 is present in the list\n",
    "if 10 in my_list:\n",
    "    print(\"10 is present in the list.\")\n",
    "else:\n",
    "    print(\"10 is not present in the list.\")"
   ]
  }
 ],
 "metadata": {
  "kernelspec": {
   "display_name": "myenv",
   "language": "python",
   "name": "python3"
  },
  "language_info": {
   "codemirror_mode": {
    "name": "ipython",
    "version": 3
   },
   "file_extension": ".py",
   "mimetype": "text/x-python",
   "name": "python",
   "nbconvert_exporter": "python",
   "pygments_lexer": "ipython3",
   "version": "3.12.8"
  }
 },
 "nbformat": 4,
 "nbformat_minor": 4
}
