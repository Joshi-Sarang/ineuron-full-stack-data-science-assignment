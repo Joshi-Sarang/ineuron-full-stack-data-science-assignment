{
    "cells": [
        {
            "cell_type": "markdown",
            "metadata": {},
            "source": [
                "### Q1. What is a lambda function in Python, and how does it differ from a regular function?"
            ]
        },
        {
            "cell_type": "markdown",
            "metadata": {},
            "source": [
                "A lambda function is a small anonymous function defined with the `lambda` keyword. It can have any number of arguments but only one expression. Lambda functions are different from regular functions in that they are typically used for short, throwaway functions."
            ]
        },
        {
            "cell_type": "code",
            "execution_count": 2,
            "metadata": {},
            "outputs": [
                {
                    "name": "stdout",
                    "output_type": "stream",
                    "text": [
                        "7\n"
                    ]
                }
            ],
            "source": [
                "add_lambda = lambda a, b: a + b\n",
                "print(add_lambda(3, 4))  # Output: 7"
            ]
        },
        {
            "cell_type": "markdown",
            "metadata": {},
            "source": [
                "### Q2. Can a lambda function in Python have multiple arguments? If yes, how can you define and use them?"
            ]
        },
        {
            "cell_type": "code",
            "execution_count": 3,
            "metadata": {},
            "outputs": [
                {
                    "name": "stdout",
                    "output_type": "stream",
                    "text": [
                        "12\n"
                    ]
                }
            ],
            "source": [
                "multiply_lambda = lambda x, y: x * y\n",
                "print(multiply_lambda(3, 4))  # Output: 12"
            ]
        },
        {
            "cell_type": "markdown",
            "metadata": {},
            "source": [
                "### Q3. How are lambda functions typically used in Python? Provide an example use case."
            ]
        },
        {
            "cell_type": "code",
            "execution_count": 4,
            "metadata": {},
            "outputs": [
                {
                    "name": "stdout",
                    "output_type": "stream",
                    "text": [
                        "[1, 4, 9, 16, 25]\n"
                    ]
                }
            ],
            "source": [
                "numbers = [1, 2, 3, 4, 5]\n",
                "squared_numbers = map(lambda x: x**2, numbers)\n",
                "print(list(squared_numbers))  # Output: [1, 4, 9, 16, 25]"
            ]
        },
        {
            "cell_type": "markdown",
            "metadata": {},
            "source": [
                "### Q4. What are the advantages and limitations of lambda functions compared to regular functions in Python?"
            ]
        },
        {
            "cell_type": "markdown",
            "metadata": {},
            "source": [
                "**Advantages:**\n",
                "- Concise syntax.\n",
                "- Useful for short, throwaway functions.\n",
                "\n",
                "**Limitations:**\n",
                "- Limited to a single expression.\n",
                "- Less readable for complex functions.\n",
                "- Cannot contain statements (e.g., loops, conditions)."
            ]
        },
        {
            "cell_type": "markdown",
            "metadata": {},
            "source": [
                "### Q5. Are lambda functions in Python able to access variables defined outside of their own scope? Explain with an example."
            ]
        },
        {
            "cell_type": "code",
            "execution_count": 5,
            "metadata": {},
            "outputs": [
                {
                    "name": "stdout",
                    "output_type": "stream",
                    "text": [
                        "15\n"
                    ]
                }
            ],
            "source": [
                "def outer_function():\n",
                "    x = 10\n",
                "    lambda_function = lambda y: x + y\n",
                "    return lambda_function\n",
                "\n",
                "lambda_func = outer_function()\n",
                "print(lambda_func(5))  # Output: 15"
            ]
        },
        {
            "cell_type": "markdown",
            "metadata": {},
            "source": [
                "### Q6. Write a lambda function to calculate the square of a given number."
            ]
        },
        {
            "cell_type": "code",
            "execution_count": 6,
            "metadata": {},
            "outputs": [
                {
                    "name": "stdout",
                    "output_type": "stream",
                    "text": [
                        "25\n"
                    ]
                }
            ],
            "source": [
                "square_lambda = lambda x: x**2\n",
                "print(square_lambda(5))  # Output: 25"
            ]
        },
        {
            "cell_type": "markdown",
            "metadata": {},
            "source": [
                "### Q7. Create a lambda function to find the maximum value in a list of integers."
            ]
        },
        {
            "cell_type": "code",
            "execution_count": 7,
            "metadata": {},
            "outputs": [
                {
                    "name": "stdout",
                    "output_type": "stream",
                    "text": [
                        "8\n"
                    ]
                }
            ],
            "source": [
                "max_lambda = lambda lst: max(lst)\n",
                "numbers = [1, 3, 2, 8, 5]\n",
                "print(max_lambda(numbers))  # Output: 8"
            ]
        },
        {
            "cell_type": "markdown",
            "metadata": {},
            "source": [
                "### Q8. Implement a lambda function to filter out all the even numbers from a list of integers."
            ]
        },
        {
            "cell_type": "code",
            "execution_count": 8,
            "metadata": {},
            "outputs": [
                {
                    "name": "stdout",
                    "output_type": "stream",
                    "text": [
                        "[2, 4, 6]\n"
                    ]
                }
            ],
            "source": [
                "filter_even_lambda = lambda lst: list(filter(lambda x: x % 2 == 0, lst))\n",
                "numbers = [1, 2, 3, 4, 5, 6]\n",
                "print(filter_even_lambda(numbers))  # Output: [2, 4, 6]"
            ]
        },
        {
            "cell_type": "markdown",
            "metadata": {},
            "source": [
                "### Q9. Write a lambda function to sort a list of strings in ascending order based on the length of each string."
            ]
        },
        {
            "cell_type": "code",
            "execution_count": 9,
            "metadata": {},
            "outputs": [
                {
                    "name": "stdout",
                    "output_type": "stream",
                    "text": [
                        "['date', 'apple', 'banana', 'cherry']\n"
                    ]
                }
            ],
            "source": [
                "sort_by_length_lambda = lambda lst: sorted(lst, key=lambda x: len(x))\n",
                "strings = [\"apple\", \"banana\", \"cherry\", \"date\"]\n",
                "print(sort_by_length_lambda(strings))  # Output: ['date', 'apple', 'banana', 'cherry']"
            ]
        },
        {
            "cell_type": "markdown",
            "metadata": {},
            "source": [
                "### Q10. Create a lambda function that takes two lists as input and returns a new list containing the common elements between the two lists."
            ]
        },
        {
            "cell_type": "code",
            "execution_count": 10,
            "metadata": {},
            "outputs": [
                {
                    "name": "stdout",
                    "output_type": "stream",
                    "text": [
                        "[3, 4]\n"
                    ]
                }
            ],
            "source": [
                "common_elements_lambda = lambda lst1, lst2: list(filter(lambda x: x in lst2, lst1))\n",
                "list1 = [1, 2, 3, 4]\n",
                "list2 = [3, 4, 5, 6]\n",
                "print(common_elements_lambda(list1, list2))  # Output: [3, 4]"
            ]
        },
        {
            "cell_type": "markdown",
            "metadata": {},
            "source": [
                "### Q11. Write a recursive function to calculate the factorial of a given positive integer."
            ]
        },
        {
            "cell_type": "code",
            "execution_count": 11,
            "metadata": {},
            "outputs": [
                {
                    "name": "stdout",
                    "output_type": "stream",
                    "text": [
                        "120\n"
                    ]
                }
            ],
            "source": [
                "def factorial(n):\n",
                "    if n == 0 or n == 1:\n",
                "        return 1\n",
                "    else:\n",
                "        return n * factorial(n - 1)\n",
                "\n",
                "print(factorial(5))  # Output: 120"
            ]
        },
        {
            "cell_type": "markdown",
            "metadata": {},
            "source": [
                "### Q12. Implement a recursive function to compute the nth Fibonacci number."
            ]
        },
        {
            "cell_type": "code",
            "execution_count": 12,
            "metadata": {},
            "outputs": [
                {
                    "name": "stdout",
                    "output_type": "stream",
                    "text": [
                        "8\n"
                    ]
                }
            ],
            "source": [
                "def fibonacci(n):\n",
                "    if n <= 0:\n",
                "        return 0\n",
                "    elif n == 1:\n",
                "        return 1\n",
                "    else:\n",
                "        return fibonacci(n - 1) + fibonacci(n - 2)\n",
                "\n",
                "print(fibonacci(6))  # Output: 8"
            ]
        },
        {
            "cell_type": "markdown",
            "metadata": {},
            "source": [
                "### Q13. Create a recursive function to find the sum of all the elements in a given list."
            ]
        },
        {
            "cell_type": "code",
            "execution_count": 13,
            "metadata": {},
            "outputs": [
                {
                    "name": "stdout",
                    "output_type": "stream",
                    "text": [
                        "15\n"
                    ]
                }
            ],
            "source": [
                "def sum_list(lst):\n",
                "    if not lst:\n",
                "        return 0\n",
                "    else:\n",
                "        return lst[0] + sum_list(lst[1:])\n",
                "\n",
                "numbers = [1, 2, 3, 4, 5]\n",
                "print(sum_list(numbers))  # Output: 15"
            ]
        },
        {
            "cell_type": "markdown",
            "metadata": {},
            "source": [
                "### Q14. Write a recursive function to determine whether a given string is a palindrome."
            ]
        },
        {
            "cell_type": "code",
            "execution_count": 14,
            "metadata": {},
            "outputs": [
                {
                    "name": "stdout",
                    "output_type": "stream",
                    "text": [
                        "True\n",
                        "False\n"
                    ]
                }
            ],
            "source": [
                "def is_palindrome(s):\n",
                "    if len(s) <= 1:\n",
                "        return True\n",
                "    elif s[0] != s[-1]:\n",
                "        return False\n",
                "    else:\n",
                "        return is_palindrome(s[1:-1])\n",
                "\n",
                "print(is_palindrome(\"radar\"))  # Output: True\n",
                "print(is_palindrome(\"hello\"))"
            ]
        },
        {
            "cell_type": "markdown",
            "metadata": {},
            "source": [
                "### Q15. Implement a recursive function to find the greatest common divisor (GCD) of two positive integers.\n",
                "python"
            ]
        },
        {
            "cell_type": "code",
            "execution_count": 15,
            "metadata": {},
            "outputs": [
                {
                    "name": "stdout",
                    "output_type": "stream",
                    "text": [
                        "6\n"
                    ]
                }
            ],
            "source": [
                "def gcd(a, b):\n",
                "    if b == 0:\n",
                "        return a\n",
                "    else:\n",
                "        return gcd(b, a % b)\n",
                "\n",
                "print(gcd(48, 18))  # Output: 6"
            ]
        }
    ],
    "metadata": {
        "kernelspec": {
            "display_name": "myenv",
            "language": "python",
            "name": "python3"
        },
        "language_info": {
            "codemirror_mode": {
                "name": "ipython",
                "version": 3
            },
            "file_extension": ".py",
            "mimetype": "text/x-python",
            "name": "python",
            "nbconvert_exporter": "python",
            "pygments_lexer": "ipython3",
            "version": "3.12.8"
        }
    },
    "nbformat": 4,
    "nbformat_minor": 2
}
