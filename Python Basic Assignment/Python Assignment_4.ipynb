{
 "cells": [
  {
   "cell_type": "markdown",
   "metadata": {},
   "source": [
    "### 1. What exactly is []?\n",
    "The square brackets [] represent an empty list in Python. Lists are used to store multiple items in a single variable."
   ]
  },
  {
   "cell_type": "markdown",
   "metadata": {},
   "source": [
    "### 2. How would you assign the value 'hello' as the third value in spam?\n",
    "Assuming spam = [2, 4, 6, 8, 10], you can assign 'hello' as the third value using:\n",
    "```python\n",
    "spam[2] = 'hello'\n",
    "```"
   ]
  },
  {
   "cell_type": "markdown",
   "metadata": {},
   "source": [
    "### 3. What is the value of spam[int(int('3' * 2) / 11)]?\n",
    "Given spam = ['a', 'b', 'c', 'd'], evaluating the expression:\n",
    "```python\n",
    "int('3' * 2) / 11  # '33' converted to int and divided by 11 gives 3\n",
    "```\n",
    "Thus, spam[3] is 'd'."
   ]
  },
  {
   "cell_type": "markdown",
   "metadata": {},
   "source": [
    "### 4. What is the value of spam[-1]?\n",
    "The last item in the list spam = ['a', 'b', 'c', 'd'] is 'd'."
   ]
  },
  {
   "cell_type": "markdown",
   "metadata": {},
   "source": [
    "### 5. What is the value of spam[:2]?\n",
    "The first two elements of spam = ['a', 'b', 'c', 'd'] are ['a', 'b']."
   ]
  },
  {
   "cell_type": "markdown",
   "metadata": {},
   "source": [
    "### 6. What is the value of bacon.index('cat')?\n",
    "Given bacon = [3.14, 'cat', 11, 'cat', True], the first occurrence of 'cat' is at index 1."
   ]
  },
  {
   "cell_type": "markdown",
   "metadata": {},
   "source": [
    "### 7. How does bacon.append(99) change the list?\n",
    "Appending 99 adds it to the end, making bacon = [3.14, 'cat', 11, 'cat', True, 99]."
   ]
  },
  {
   "cell_type": "markdown",
   "metadata": {},
   "source": [
    "### 8. How does bacon.remove('cat') change the list?\n",
    "The first occurrence of 'cat' is removed, so bacon = [3.14, 11, 'cat', True]."
   ]
  },
  {
   "cell_type": "markdown",
   "metadata": {},
   "source": [
    "### 9. What are the list concatenation and replication operators?\n",
    "Concatenation uses '+', and replication uses '*'.\n",
    "```python\n",
    "[1, 2] + [3, 4]  # [1, 2, 3, 4]\n",
    "['a'] * 3  # ['a', 'a', 'a']\n",
    "```"
   ]
  },
  {
   "cell_type": "markdown",
   "metadata": {},
   "source": [
    "### 10. Difference between append() and insert()?\n",
    "append() adds to the end, while insert() adds at a specified index."
   ]
  },
  {
   "cell_type": "markdown",
   "metadata": {},
   "source": [
    "### 11. Two methods for removing items from a list?\n",
    "remove() deletes by value, pop() removes by index."
   ]
  },
  {
   "cell_type": "markdown",
   "metadata": {},
   "source": [
    "### 12. How are list and string values identical?\n",
    "Both support indexing, slicing, and iteration."
   ]
  },
  {
   "cell_type": "markdown",
   "metadata": {},
   "source": [
    "### 13. Difference between tuples and lists?\n",
    "Lists are mutable; tuples are immutable."
   ]
  },
  {
   "cell_type": "markdown",
   "metadata": {},
   "source": [
    "### 14. How to type a tuple containing only 42?\n",
    "```python\n",
    "(42,)  # The comma is necessary\n",
    "```"
   ]
  },
  {
   "cell_type": "markdown",
   "metadata": {},
   "source": [
    "### 15. How to convert between list and tuple?\n",
    "```python\n",
    "tuple([1, 2, 3])  # Converts list to tuple\n",
    "list((4, 5, 6))  # Converts tuple to list\n",
    "```"
   ]
  },
  {
   "cell_type": "markdown",
   "metadata": {},
   "source": [
    "### 16. What do variables containing lists actually store?\n",
    "They store references to the list objects, not the actual lists."
   ]
  },
  {
   "cell_type": "markdown",
   "metadata": {},
   "source": [
    "### 17. Difference between copy.copy() and copy.deepcopy()?\n",
    "copy.copy() creates a shallow copy, while copy.deepcopy() copies nested objects as well."
   ]
  }
 ],
 "metadata": {
  "kernelspec": {
   "display_name": "Python 3",
   "language": "python",
   "name": "python3"
  },
  "language_info": {
   "name": "python",
   "version": "3.8"
  }
 },
 "nbformat": 4,
 "nbformat_minor": 4
}
