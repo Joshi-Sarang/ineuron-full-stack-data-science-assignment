{
    "cells": [
        {
            "cell_type": "markdown",
            "metadata": {},
            "source": [
                "### Q1. What is the difference between a built-in function and a user-defined function? Provide an example of each."
            ]
        },
        {
            "cell_type": "markdown",
            "metadata": {},
            "source": [
                "- **Built-in Function**: These are functions that are pre-defined in Python and come with the language. Examples include `print()`, `len()`, `sum()`, etc."
            ]
        },
        {
            "cell_type": "code",
            "execution_count": 3,
            "metadata": {},
            "outputs": [
                {
                    "name": "stdout",
                    "output_type": "stream",
                    "text": [
                        "Hello, World!\n"
                    ]
                }
            ],
            "source": [
                "# Example of a built-in function\n",
                "print(\"Hello, World!\")"
            ]
        },
        {
            "cell_type": "markdown",
            "metadata": {},
            "source": [
                "- **User-defined Function**: These are functions that are defined by the user to perform specific tasks."
            ]
        },
        {
            "cell_type": "code",
            "execution_count": 4,
            "metadata": {},
            "outputs": [
                {
                    "name": "stdout",
                    "output_type": "stream",
                    "text": [
                        "Hello, Alice!\n"
                    ]
                }
            ],
            "source": [
                "# Example of a user-defined function\n",
                "def greet(name):\n",
                "    return f\"Hello, {name}!\"\n",
                "\n",
                "print(greet(\"Alice\"))"
            ]
        },
        {
            "cell_type": "markdown",
            "metadata": {},
            "source": [
                "### Q2. How can you pass arguments to a function in Python? Explain the difference between positional arguments and keyword arguments."
            ]
        },
        {
            "cell_type": "markdown",
            "metadata": {},
            "source": [
                "- **Positional Arguments**: These are arguments that are passed to a function in a specific order."
            ]
        },
        {
            "cell_type": "code",
            "execution_count": 2,
            "metadata": {},
            "outputs": [],
            "source": [
                "def add(a, b):\n",
                "    return a + b\n",
                "\n",
                "result = add(5, 3)  # 5 and 3 are positional arguments"
            ]
        },
        {
            "cell_type": "markdown",
            "metadata": {},
            "source": [
                "- **Keyword Arguments**: These are arguments that are passed to a function by explicitly naming the parameters.\n"
            ]
        },
        {
            "cell_type": "code",
            "execution_count": 1,
            "metadata": {},
            "outputs": [],
            "source": [
                "def add(a, b):\n",
                "    return a + b\n",
                "\n",
                "result = add(a=5, b=3)  # a=5 and b=3 are keyword arguments"
            ]
        },
        {
            "cell_type": "markdown",
            "metadata": {},
            "source": [
                "### Q3. What is the purpose of the return statement in a function? Can a function have multiple return statements? Explain with an example."
            ]
        },
        {
            "cell_type": "markdown",
            "metadata": {},
            "source": [
                "The `return` statement is used to exit a function and pass back a value to the caller. A function can have multiple return statements, but only one will be executed based on the function logic."
            ]
        },
        {
            "cell_type": "code",
            "execution_count": 5,
            "metadata": {},
            "outputs": [
                {
                    "name": "stdout",
                    "output_type": "stream",
                    "text": [
                        "Positive\n",
                        "Negative\n",
                        "Zero\n"
                    ]
                }
            ],
            "source": [
                "def evaluate_number(x):\n",
                "    if x > 0:\n",
                "        return \"Positive\"\n",
                "    elif x < 0:\n",
                "        return \"Negative\"\n",
                "    else:\n",
                "        return \"Zero\"\n",
                "\n",
                "print(evaluate_number(5))  # Output: Positive\n",
                "print(evaluate_number(-3)) # Output: Negative\n",
                "print(evaluate_number(0))  # Output: Zero"
            ]
        },
        {
            "cell_type": "markdown",
            "metadata": {},
            "source": [
                "### Q4. What are lambda functions in Python? How are they different from regular functions? Provide an example where a lambda function can be useful."
            ]
        },
        {
            "cell_type": "markdown",
            "metadata": {},
            "source": [
                "- Lambda functions are small anonymous functions defined with the `lambda` keyword. \n",
                "- They can have any number of arguments but only one expression. \n",
                "- They are different from regular functions in that they are typically used for short, throwaway functions."
            ]
        },
        {
            "cell_type": "code",
            "execution_count": 6,
            "metadata": {},
            "outputs": [
                {
                    "name": "stdout",
                    "output_type": "stream",
                    "text": [
                        "7\n"
                    ]
                }
            ],
            "source": [
                "# Regular function\n",
                "def add(a, b):\n",
                "    return a + b\n",
                "\n",
                "# Lambda function\n",
                "add_lambda = lambda a, b: a + b\n",
                "\n",
                "print(add_lambda(3, 4))  # Output: 7"
            ]
        },
        {
            "cell_type": "markdown",
            "metadata": {},
            "source": [
                "- Lambda functions are useful in scenarios where you need a simple function for a short period, such as with `map()`, `filter()`, or `sorted()` functions."
            ]
        },
        {
            "cell_type": "code",
            "execution_count": 7,
            "metadata": {},
            "outputs": [
                {
                    "name": "stdout",
                    "output_type": "stream",
                    "text": [
                        "[1, 4, 9, 16, 25]\n"
                    ]
                }
            ],
            "source": [
                "numbers = [1, 2, 3, 4, 5]\n",
                "squared_numbers = map(lambda x: x**2, numbers)\n",
                "print(list(squared_numbers))  # Output: [1, 4, 9, 16, 25]"
            ]
        },
        {
            "cell_type": "markdown",
            "metadata": {},
            "source": [
                "### Q5. How does the concept of \"scope\" apply to functions in Python? Explain the difference between local scope and global scope."
            ]
        },
        {
            "cell_type": "markdown",
            "metadata": {},
            "source": [
                "- **Local Scope**: Variables defined inside a function are in the local scope and can only be accessed within that function.\n"
            ]
        },
        {
            "cell_type": "code",
            "execution_count": 8,
            "metadata": {},
            "outputs": [
                {
                    "name": "stdout",
                    "output_type": "stream",
                    "text": [
                        "10\n"
                    ]
                }
            ],
            "source": [
                "def my_function():\n",
                "    local_var = 10\n",
                "    print(local_var)\n",
                "\n",
                "my_function()  # Output: 10\n",
                "# print(local_var)  # This will raise a NameError"
            ]
        },
        {
            "cell_type": "markdown",
            "metadata": {},
            "source": [
                "- **Global Scope**: Variables defined outside of any function are in the global scope and can be accessed anywhere in the code.\n"
            ]
        },
        {
            "cell_type": "code",
            "execution_count": 9,
            "metadata": {},
            "outputs": [
                {
                    "name": "stdout",
                    "output_type": "stream",
                    "text": [
                        "20\n",
                        "20\n"
                    ]
                }
            ],
            "source": [
                "global_var = 20\n",
                "\n",
                "def my_function():\n",
                "    print(global_var)\n",
                "\n",
                "my_function()  # Output: 20\n",
                "print(global_var)  # Output: 20"
            ]
        },
        {
            "cell_type": "markdown",
            "metadata": {},
            "source": [
                "### Q6. How can you use the \"return\" statement in a Python function to return multiple values?"
            ]
        },
        {
            "cell_type": "markdown",
            "metadata": {},
            "source": [
                "You can use the `return` statement to return multiple values by returning them as a tuple."
            ]
        },
        {
            "cell_type": "code",
            "execution_count": 10,
            "metadata": {},
            "outputs": [
                {
                    "name": "stdout",
                    "output_type": "stream",
                    "text": [
                        "(10, 20)\n"
                    ]
                }
            ],
            "source": [
                "def get_coordinates():\n",
                "    x = 10\n",
                "    y = 20\n",
                "    return x, y\n",
                "\n",
                "coords = get_coordinates()\n",
                "print(coords)  # Output: (10, 20)"
            ]
        },
        {
            "cell_type": "markdown",
            "metadata": {},
            "source": [
                "### Q7. What is the difference between the \"pass by value\" and \"pass by reference\" concepts when it comes to function arguments in Python?"
            ]
        },
        {
            "cell_type": "markdown",
            "metadata": {},
            "source": [
                "- **Pass by Value**: The actual value is passed, and modifications inside the function do not affect the original variable.\n",
                "- **Pass by Reference**: The reference (memory address) is passed, and modifications inside the function affect the original variable.\n",
                "\n",
                "In Python, arguments are passed by assignment, which means:\n",
                "- For immutable types (e.g., integers, strings, tuples), it behaves like pass by value.\n",
                "- For mutable types (e.g., lists, dictionaries), it behaves like pass by reference."
            ]
        },
        {
            "cell_type": "code",
            "execution_count": 11,
            "metadata": {},
            "outputs": [
                {
                    "name": "stdout",
                    "output_type": "stream",
                    "text": [
                        "[1, 2, 3, 10]\n"
                    ]
                }
            ],
            "source": [
                "def modify_list(lst):\n",
                "    lst.append(10)\n",
                "    return lst\n",
                "\n",
                "my_list = [1, 2, 3]\n",
                "modify_list(my_list)\n",
                "print(my_list)  # Output: [1, 2, 3, 10]"
            ]
        },
        {
            "cell_type": "markdown",
            "metadata": {},
            "source": [
                "### Q8. Create a function that can intake integer or decimal value and do following operations:\n",
                "a. Logarithmic function (log x)\n",
                "b. Exponential function (exp(x))\n",
                "c. Power function with base 2 (2^x)\n",
                "d. Square root"
            ]
        },
        {
            "cell_type": "code",
            "execution_count": 12,
            "metadata": {},
            "outputs": [
                {
                    "name": "stdout",
                    "output_type": "stream",
                    "text": [
                        "(1.6094379124341003, 148.4131591025766, 32, 2.23606797749979)\n"
                    ]
                }
            ],
            "source": [
                "import math\n",
                "\n",
                "def perform_operations(x):\n",
                "    log_x = math.log(x)\n",
                "    exp_x = math.exp(x)\n",
                "    power_2_x = 2 ** x\n",
                "    sqrt_x = math.sqrt(x)\n",
                "    return log_x, exp_x, power_2_x, sqrt_x\n",
                "\n",
                "result = perform_operations(5)\n",
                "print(result)"
            ]
        },
        {
            "cell_type": "markdown",
            "metadata": {},
            "source": [
                "### Q9. Create a function that takes a full name as an argument and returns first name and last name."
            ]
        },
        {
            "cell_type": "code",
            "execution_count": 13,
            "metadata": {},
            "outputs": [
                {
                    "name": "stdout",
                    "output_type": "stream",
                    "text": [
                        "First Name: John, Last Name: Doe\n"
                    ]
                }
            ],
            "source": [
                "def split_name(full_name):\n",
                "    parts = full_name.split()\n",
                "    first_name = parts[0]\n",
                "    last_name = parts[-1] if len(parts) > 1 else \"\"\n",
                "    return first_name, last_name\n",
                "\n",
                "first, last = split_name(\"John Doe\")\n",
                "print(f\"First Name: {first}, Last Name: {last}\")"
            ]
        }
    ],
    "metadata": {
        "kernelspec": {
            "display_name": "myenv",
            "language": "python",
            "name": "python3"
        },
        "language_info": {
            "codemirror_mode": {
                "name": "ipython",
                "version": 3
            },
            "file_extension": ".py",
            "mimetype": "text/x-python",
            "name": "python",
            "nbconvert_exporter": "python",
            "pygments_lexer": "ipython3",
            "version": "3.12.8"
        }
    },
    "nbformat": 4,
    "nbformat_minor": 2
}
