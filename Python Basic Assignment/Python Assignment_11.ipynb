{
    "cells": [
        {
            "cell_type": "markdown",
            "metadata": {},
            "source": [
                "## 1. Role of the `else` block in a try-except statement"
            ]
        },
        {
            "cell_type": "code",
            "execution_count": 1,
            "id": "65234f0f",
            "metadata": {},
            "outputs": [
                {
                    "name": "stdout",
                    "output_type": "stream",
                    "text": [
                        "File not found.\n"
                    ]
                }
            ],
            "source": [
                "try:\n",
                "    file = open('data.txt', 'r')\n",
                "except FileNotFoundError:\n",
                "    print('File not found.')\n",
                "else:\n",
                "    data = file.read()\n",
                "    print('File read successfully.')\n",
                "    file.close()"
            ]
        },
        {
            "cell_type": "markdown",
            "id": "1f10cc6c",
            "metadata": {},
            "source": [
                "## 2. Can a try-except block be nested inside another try-except block?"
            ]
        },
        {
            "cell_type": "code",
            "execution_count": 2,
            "id": "2f45a5c3",
            "metadata": {},
            "outputs": [
                {
                    "name": "stdout",
                    "output_type": "stream",
                    "text": [
                        "Inner: Division by zero error.\n"
                    ]
                }
            ],
            "source": [
                "try:\n",
                "    x = 10\n",
                "    y = 0\n",
                "    try:\n",
                "        result = x / y\n",
                "    except ZeroDivisionError:\n",
                "        print('Inner: Division by zero error.')\n",
                "except Exception as e:\n",
                "    print('Outer: General error:', e)"
            ]
        },
        {
            "cell_type": "markdown",
            "id": "aa24609a",
            "metadata": {},
            "source": [
                "## 3. Creating a custom exception class"
            ]
        },
        {
            "cell_type": "code",
            "execution_count": 5,
            "id": "5e059eb5",
            "metadata": {},
            "outputs": [
                {
                    "name": "stdout",
                    "output_type": "stream",
                    "text": [
                        "Error: Negative values are not allowed!\n"
                    ]
                }
            ],
            "source": [
                "class NegativeValueError(Exception):\n",
                "    def __init__(self, message='Value cannot be negative'):\n",
                "        self.message = message\n",
                "        super().__init__(self.message)\n",
                "\n",
                "def process_value(value):\n",
                "    if value < 0:\n",
                "        raise NegativeValueError('Negative values are not allowed!')\n",
                "    return value * 2\n",
                "\n",
                "try:\n",
                "    result = process_value(-5)\n",
                "except NegativeValueError as e:\n",
                "    print(f'Error: {e}')"
            ]
        },
        {
            "cell_type": "markdown",
            "metadata": {},
            "source": [
                "## 4. Common built-in exceptions in Python"
            ]
        },
        {
            "cell_type": "code",
            "execution_count": 6,
            "metadata": {},
            "outputs": [],
            "source": [
                "# Some common exceptions include:\n",
                "# - IndexError\n",
                "# - KeyError\n",
                "# - ValueError\n",
                "# - TypeError\n",
                "# - FileNotFoundError\n",
                "# - ZeroDivisionError"
            ]
        },
        {
            "cell_type": "markdown",
            "metadata": {},
            "source": [
                "## 5. Logging in Python"
            ]
        },
        {
            "cell_type": "code",
            "execution_count": 7,
            "metadata": {},
            "outputs": [
                {
                    "name": "stderr",
                    "output_type": "stream",
                    "text": [
                        "INFO:root:This is an info message.\n"
                    ]
                }
            ],
            "source": [
                "# Logging allows tracking events, errors, or other messages during program execution.\n",
                "# It is important for debugging, monitoring, and troubleshooting in production environments.\n",
                "import logging\n",
                "\n",
                "logging.basicConfig(level=logging.DEBUG)\n",
                "logging.info('This is an info message.')"
            ]
        },
        {
            "cell_type": "markdown",
            "metadata": {},
            "source": [
                "## 6. Log levels in Python logging"
            ]
        },
        {
            "cell_type": "code",
            "execution_count": 9,
            "metadata": {},
            "outputs": [
                {
                    "name": "stderr",
                    "output_type": "stream",
                    "text": [
                        "DEBUG:root:This is a debug message.\n",
                        "INFO:root:This is an info message.\n",
                        "WARNING:root:This is a warning message.\n",
                        "ERROR:root:This is an error message.\n",
                        "CRITICAL:root:This is a critical message.\n"
                    ]
                }
            ],
            "source": [
                "import logging\n",
                "\n",
                "logging.debug('This is a debug message.')\n",
                "logging.info('This is an info message.')\n",
                "logging.warning('This is a warning message.')\n",
                "logging.error('This is an error message.')\n",
                "logging.critical('This is a critical message.')"
            ]
        },
        {
            "cell_type": "markdown",
            "metadata": {},
            "source": [
                "## 7. Log formatters in Python logging"
            ]
        },
        {
            "cell_type": "code",
            "execution_count": 10,
            "metadata": {},
            "outputs": [
                {
                    "name": "stderr",
                    "output_type": "stream",
                    "text": [
                        "INFO:root:This is an info message.\n"
                    ]
                }
            ],
            "source": [
                "import logging\n",
                "\n",
                "log_format = '%(asctime)s - %(levelname)s - %(message)s'\n",
                "logging.basicConfig(level=logging.DEBUG, format=log_format)\n",
                "logging.info('This is an info message.')"
            ]
        },
        {
            "cell_type": "markdown",
            "metadata": {},
            "source": [
                "## 8. Capturing log messages from multiple modules"
            ]
        },
        {
            "cell_type": "code",
            "execution_count": 11,
            "metadata": {},
            "outputs": [
                {
                    "name": "stderr",
                    "output_type": "stream",
                    "text": [
                        "INFO:__main__:Module 1 log message.\n",
                        "INFO:__main__:Module 2 log message.\n"
                    ]
                },
                {
                    "ename": "ModuleNotFoundError",
                    "evalue": "No module named 'module1'",
                    "output_type": "error",
                    "traceback": [
                        "\u001b[0;31m---------------------------------------------------------------------------\u001b[0m",
                        "\u001b[0;31mModuleNotFoundError\u001b[0m                       Traceback (most recent call last)",
                        "Cell \u001b[0;32mIn[11], line 13\u001b[0m\n\u001b[1;32m     11\u001b[0m \u001b[38;5;66;03m# main.py\u001b[39;00m\n\u001b[1;32m     12\u001b[0m \u001b[38;5;28;01mimport\u001b[39;00m\u001b[38;5;250m \u001b[39m\u001b[38;5;21;01mlogging\u001b[39;00m\n\u001b[0;32m---> 13\u001b[0m \u001b[38;5;28;01mimport\u001b[39;00m\u001b[38;5;250m \u001b[39m\u001b[38;5;21;01mmodule1\u001b[39;00m\n\u001b[1;32m     14\u001b[0m \u001b[38;5;28;01mimport\u001b[39;00m\u001b[38;5;250m \u001b[39m\u001b[38;5;21;01mmodule2\u001b[39;00m\n\u001b[1;32m     16\u001b[0m logging\u001b[38;5;241m.\u001b[39mbasicConfig(level\u001b[38;5;241m=\u001b[39mlogging\u001b[38;5;241m.\u001b[39mDEBUG)\n",
                        "\u001b[0;31mModuleNotFoundError\u001b[0m: No module named 'module1'"
                    ]
                }
            ],
            "source": [
                "# module1.py\n",
                "import logging\n",
                "logger = logging.getLogger(__name__)\n",
                "logger.info('Module 1 log message.')\n",
                "\n",
                "# module2.py\n",
                "import logging\n",
                "logger = logging.getLogger(__name__)\n",
                "logger.info('Module 2 log message.')\n",
                "\n",
                "# main.py\n",
                "import logging\n",
                "import module1\n",
                "import module2\n",
                "\n",
                "logging.basicConfig(level=logging.DEBUG)\n",
                "module1.logger.debug('Starting module 1')\n",
                "module2.logger.debug('Starting module 2')"
            ]
        },
        {
            "cell_type": "markdown",
            "metadata": {},
            "source": [
                "## 9. Difference between logging and print statements"
            ]
        },
        {
            "cell_type": "code",
            "execution_count": 12,
            "metadata": {},
            "outputs": [],
            "source": [
                "# Logging is more flexible than print and can manage log levels, output destinations, and message formatting.\n",
                "# It's suitable for debugging and tracking events in production, while print is primarily for simple outputs."
            ]
        },
        {
            "cell_type": "markdown",
            "metadata": {},
            "source": [
                "## 10. Logging to a file named `app.log` with INFO level"
            ]
        },
        {
            "cell_type": "code",
            "execution_count": 13,
            "metadata": {},
            "outputs": [
                {
                    "name": "stderr",
                    "output_type": "stream",
                    "text": [
                        "INFO:root:Hello, World!\n"
                    ]
                }
            ],
            "source": [
                "import logging\n",
                "\n",
                "logging.basicConfig(filename='app.log', level=logging.INFO, filemode='a', format='%(asctime)s - %(message)s')\n",
                "logging.info('Hello, World!')"
            ]
        },
        {
            "cell_type": "markdown",
            "metadata": {},
            "source": [
                "## 11. Logging error messages to console and file"
            ]
        },
        {
            "cell_type": "code",
            "execution_count": 15,
            "metadata": {},
            "outputs": [
                {
                    "name": "stderr",
                    "output_type": "stream",
                    "text": [
                        "ERROR:root:An error occurred: division by zero\n",
                        "2025-02-07 20:43:33,826 - ERROR - An error occurred: division by zero\n",
                        "2025-02-07 20:43:33,826 - ERROR - An error occurred: division by zero\n"
                    ]
                }
            ],
            "source": [
                "import logging\n",
                "\n",
                "logger = logging.getLogger()\n",
                "logger.setLevel(logging.ERROR)\n",
                "\n",
                "file_handler = logging.FileHandler('errors.log')\n",
                "file_handler.setFormatter(logging.Formatter('%(asctime)s - %(levelname)s - %(message)s'))\n",
                "\n",
                "console_handler = logging.StreamHandler()\n",
                "console_handler.setFormatter(logging.Formatter('%(asctime)s - %(levelname)s - %(message)s'))\n",
                "\n",
                "logger.addHandler(file_handler)\n",
                "logger.addHandler(console_handler)\n",
                "\n",
                "try:\n",
                "    x = 1 / 0  # Will raise ZeroDivisionError\n",
                "except ZeroDivisionError as e:\n",
                "    logger.error('An error occurred: %s', e)"
            ]
        }
    ],
    "metadata": {
        "kernelspec": {
            "display_name": "myenv",
            "language": "python",
            "name": "python3"
        },
        "language_info": {
            "codemirror_mode": {
                "name": "ipython",
                "version": 3
            },
            "file_extension": ".py",
            "mimetype": "text/x-python",
            "name": "python",
            "nbconvert_exporter": "python",
            "pygments_lexer": "ipython3",
            "version": "3.12.8"
        }
    },
    "nbformat": 4,
    "nbformat_minor": 5
}
