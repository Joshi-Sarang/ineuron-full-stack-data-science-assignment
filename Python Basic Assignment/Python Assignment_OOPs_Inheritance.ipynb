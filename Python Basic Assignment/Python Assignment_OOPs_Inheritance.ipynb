{
    "cells": [
        {
            "cell_type": "markdown",
            "metadata": {},
            "source": [
                "# Object-Oriented Programming (OOP) - Inheritance"
            ]
        },
        {
            "cell_type": "markdown",
            "metadata": {},
            "source": [
                "**1. Explain what inheritance is in object-oriented programming and why it is used.**"
            ]
        },
        {
            "cell_type": "markdown",
            "metadata": {},
            "source": [
                "Inheritance is a fundamental concept in object-oriented programming (OOP) that allows one class (the derived or child class) to inherit attributes and methods from another class (the base or parent class). It enables code reusability, modularity, and better organization of code. By using inheritance, we can avoid redundant code and build hierarchical relationships between classes, making programs easier to maintain and extend."
            ]
        },
        {
            "cell_type": "markdown",
            "metadata": {},
            "source": [
                "**2. Discuss the concept of single inheritance and multiple inheritance, highlighting their differences and advantages.**"
            ]
        },
        {
            "cell_type": "markdown",
            "metadata": {},
            "source": [
                "- **Single Inheritance**: A derived class inherits from only one base class. This maintains simplicity and avoids complexity in the class hierarchy.\n",
                "- **Multiple Inheritance**: A derived class inherits from more than one base class. This allows a class to inherit attributes and behaviors from multiple parent classes, providing more flexibility but also increasing complexity and potential issues like the diamond problem."
            ]
        },
        {
            "cell_type": "markdown",
            "metadata": {},
            "source": [
                "**3. Explain the terms 'base class' and 'derived class' in the context of inheritance.**"
            ]
        },
        {
            "cell_type": "markdown",
            "metadata": {},
            "source": [
                "- **Base Class**: The class from which other classes inherit. Also known as the parent or superclass.\n",
                "- **Derived Class**: The class that inherits from the base class. Also known as the child or subclass. It gains the attributes and methods of the base class and can also have additional attributes and methods of its own."
            ]
        },
        {
            "cell_type": "markdown",
            "metadata": {},
            "source": [
                "**4. What is the significance of the 'protected' access modifier in inheritance? How does it differ from 'private' and 'public' modifiers?**"
            ]
        },
        {
            "cell_type": "markdown",
            "metadata": {},
            "source": [
                "- **Public**: Accessible from anywhere.\n",
                "- **Protected**: Denoted by a single underscore (_variable). It suggests that the variable or method is meant for internal use within the class and its subclasses, but it is still accessible.\n",
                "- **Private**: Denoted by double underscores (__variable). It restricts access to within the class only, preventing it from being accessed directly outside the class."
            ]
        },
        {
            "cell_type": "markdown",
            "metadata": {},
            "source": [
                "**5. What is the purpose of the 'super' keyword in inheritance? Provide an example.**"
            ]
        },
        {
            "cell_type": "code",
            "execution_count": 1,
            "metadata": {},
            "outputs": [
                {
                    "name": "stdout",
                    "output_type": "stream",
                    "text": [
                        "John 25\n"
                    ]
                }
            ],
            "source": [
                "class Parent:\n",
                "    def __init__(self, name):\n",
                "        self.name = name\n",
                "\n",
                "class Child(Parent):\n",
                "    def __init__(self, name, age):\n",
                "        super().__init__(name)  # Calls the parent class constructor\n",
                "        self.age = age\n",
                "\n",
                "c = Child('John', 25)\n",
                "print(c.name, c.age)"
            ]
        },
        {
            "cell_type": "markdown",
            "metadata": {},
            "source": [
                "**6. Vehicle and Car Classes**"
            ]
        },
        {
            "cell_type": "code",
            "execution_count": 2,
            "metadata": {},
            "outputs": [],
            "source": [
                "class Vehicle:\n",
                "    def __init__(self, make, model, year):\n",
                "        self.make = make\n",
                "        self.model = model\n",
                "        self.year = year\n",
                "\n",
                "class Car(Vehicle):\n",
                "    def __init__(self, make, model, year, fuel_type):\n",
                "        super().__init__(make, model, year)\n",
                "        self.fuel_type = fuel_type"
            ]
        },
        {
            "cell_type": "markdown",
            "metadata": {},
            "source": [
                "**7. Employee, Manager, and Developer Classes**"
            ]
        },
        {
            "cell_type": "code",
            "execution_count": 3,
            "metadata": {},
            "outputs": [],
            "source": [
                "class Employee:\n",
                "    def __init__(self, name, salary):\n",
                "        self.name = name\n",
                "        self.salary = salary\n",
                "\n",
                "class Manager(Employee):\n",
                "    def __init__(self, name, salary, department):\n",
                "        super().__init__(name, salary)\n",
                "        self.department = department\n",
                "\n",
                "class Developer(Employee):\n",
                "    def __init__(self, name, salary, programming_language):\n",
                "        super().__init__(name, salary)\n",
                "        self.programming_language = programming_language"
            ]
        },
        {
            "cell_type": "markdown",
            "metadata": {},
            "source": [
                "**8. Design a base class called `Shape` with attributes like `colour` and `border_width`. Create derived classes, `Rectangle` and `Circle`, that inherit from `Shape` and add specific attributes like `length` and `width` for the `Rectangle` class and `radius` for the `Circle` class.**"
            ]
        },
        {
            "cell_type": "code",
            "execution_count": 4,
            "metadata": {},
            "outputs": [
                {
                    "name": "stdout",
                    "output_type": "stream",
                    "text": [
                        "Colour: Red, Border Width: 2 Area: 50\n",
                        "Colour: Blue, Border Width: 1 Area: 153.93804002589985\n"
                    ]
                }
            ],
            "source": [
                "class Shape:\n",
                "    def __init__(self, colour, border_width):\n",
                "        self.colour = colour\n",
                "        self.border_width = border_width\n",
                "    \n",
                "    def display(self):\n",
                "        return f'Colour: {self.colour}, Border Width: {self.border_width}'\n",
                "\n",
                "class Rectangle(Shape):\n",
                "    def __init__(self, colour, border_width, length, width):\n",
                "        super().__init__(colour, border_width)\n",
                "        self.length = length\n",
                "        self.width = width\n",
                "    \n",
                "    def area(self):\n",
                "        return self.length * self.width\n",
                "\n",
                "class Circle(Shape):\n",
                "    def __init__(self, colour, border_width, radius):\n",
                "        super().__init__(colour, border_width)\n",
                "        self.radius = radius\n",
                "    \n",
                "    def area(self):\n",
                "        import math\n",
                "        return math.pi * (self.radius ** 2)\n",
                "\n",
                "# Example Usage\n",
                "rect = Rectangle('Red', 2, 10, 5)\n",
                "circle = Circle('Blue', 1, 7)\n",
                "\n",
                "print(rect.display(), 'Area:', rect.area())\n",
                "print(circle.display(), 'Area:', circle.area())"
            ]
        },
        {
            "cell_type": "markdown",
            "metadata": {},
            "source": [
                "**9. Create a base class called `Device` with attributes like `brand` and `model`. Derive two classes, `Phone` and `Tablet`, from `Device`. Add specific attributes like `screen_size` for the `Phone` class and `battery_capacity` for the `Tablet` class.**"
            ]
        },
        {
            "cell_type": "code",
            "execution_count": 5,
            "metadata": {},
            "outputs": [
                {
                    "name": "stdout",
                    "output_type": "stream",
                    "text": [
                        "Brand: Samsung, Model: Galaxy S21, Screen Size: 6.2 inches\n",
                        "Brand: Apple, Model: iPad Pro, Battery: 10000 mAh\n"
                    ]
                }
            ],
            "source": [
                "class Device:\n",
                "    def __init__(self, brand, model):\n",
                "        self.brand = brand\n",
                "        self.model = model\n",
                "    \n",
                "    def display_info(self):\n",
                "        return f'Brand: {self.brand}, Model: {self.model}'\n",
                "\n",
                "class Phone(Device):\n",
                "    def __init__(self, brand, model, screen_size):\n",
                "        super().__init__(brand, model)\n",
                "        self.screen_size = screen_size\n",
                "    \n",
                "    def display_info(self):\n",
                "        return f'{super().display_info()}, Screen Size: {self.screen_size} inches'\n",
                "\n",
                "class Tablet(Device):\n",
                "    def __init__(self, brand, model, battery_capacity):\n",
                "        super().__init__(brand, model)\n",
                "        self.battery_capacity = battery_capacity\n",
                "    \n",
                "    def display_info(self):\n",
                "        return f'{super().display_info()}, Battery: {self.battery_capacity} mAh'\n",
                "\n",
                "# Example Usage\n",
                "phone = Phone('Samsung', 'Galaxy S21', 6.2)\n",
                "tablet = Tablet('Apple', 'iPad Pro', 10000)\n",
                "\n",
                "print(phone.display_info())\n",
                "print(tablet.display_info())"
            ]
        },
        {
            "cell_type": "markdown",
            "metadata": {},
            "source": [
                "**10. Create a base class called `BankAccount` with attributes like `account_number` and `balance`. Derive two classes, `SavingsAccount` and `CheckingAccount`, from `BankAccount`. Add specific methods like `calculate_interest` for the `SavingsAccount` class and `deduct_fees` for the `CheckingAccount` class.**"
            ]
        },
        {
            "cell_type": "code",
            "execution_count": 6,
            "metadata": {},
            "outputs": [
                {
                    "name": "stdout",
                    "output_type": "stream",
                    "text": [
                        "Account: 12345, Balance: $1000 Interest: 50.0\n",
                        "Account: 67890, Balance: $1500 After Fee Deduction: 1485\n"
                    ]
                }
            ],
            "source": [
                "class BankAccount:\n",
                "    def __init__(self, account_number, balance):\n",
                "        self.account_number = account_number\n",
                "        self.balance = balance\n",
                "    \n",
                "    def display_balance(self):\n",
                "        return f'Account: {self.account_number}, Balance: ${self.balance}'\n",
                "\n",
                "class SavingsAccount(BankAccount):\n",
                "    def __init__(self, account_number, balance, interest_rate):\n",
                "        super().__init__(account_number, balance)\n",
                "        self.interest_rate = interest_rate\n",
                "    \n",
                "    def calculate_interest(self):\n",
                "        return self.balance * (self.interest_rate / 100)\n",
                "\n",
                "class CheckingAccount(BankAccount):\n",
                "    def __init__(self, account_number, balance, fee):\n",
                "        super().__init__(account_number, balance)\n",
                "        self.fee = fee\n",
                "    \n",
                "    def deduct_fees(self):\n",
                "        self.balance -= self.fee\n",
                "        return self.balance\n",
                "\n",
                "# Example Usage\n",
                "savings = SavingsAccount('12345', 1000, 5)\n",
                "checking = CheckingAccount('67890', 1500, 15)\n",
                "\n",
                "print(savings.display_balance(), 'Interest:', savings.calculate_interest())\n",
                "print(checking.display_balance(), 'After Fee Deduction:', checking.deduct_fees())"
            ]
        }
    ],
    "metadata": {
        "kernelspec": {
            "display_name": "ensoapis",
            "language": "python",
            "name": "python3"
        },
        "language_info": {
            "codemirror_mode": {
                "name": "ipython",
                "version": 3
            },
            "file_extension": ".py",
            "mimetype": "text/x-python",
            "name": "python",
            "nbconvert_exporter": "python",
            "pygments_lexer": "ipython3",
            "version": "3.10.14"
        }
    },
    "nbformat": 4,
    "nbformat_minor": 4
}
