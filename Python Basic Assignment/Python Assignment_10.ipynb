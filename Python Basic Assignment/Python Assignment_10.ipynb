{
    "cells": [
        {
            "cell_type": "markdown",
            "metadata": {},
            "source": [
                "### Q1. What is the role of the try and except block?"
            ]
        },
        {
            "cell_type": "markdown",
            "metadata": {},
            "source": [
                "- The `try` and `except` block is used for error handling in Python. \n",
                "\n",
                "- The `try` block contains code that may raise an exception, and the `except` block contains code to handle the exception if it occurs."
            ]
        },
        {
            "cell_type": "markdown",
            "metadata": {},
            "source": [
                "### Q2. What is the syntax for a basic try-except block?"
            ]
        },
        {
            "cell_type": "code",
            "execution_count": 1,
            "metadata": {},
            "outputs": [],
            "source": [
                "try:\n",
                "    # Code that may raise an exception\n",
                "    pass\n",
                "except ExceptionType:\n",
                "    # Code to handle the exception\n",
                "    pass"
            ]
        },
        {
            "cell_type": "markdown",
            "metadata": {},
            "source": [
                "### Q3. What happens if an exception occurs inside a try block and there is no matching except block?"
            ]
        },
        {
            "cell_type": "markdown",
            "metadata": {},
            "source": [
                "- If an exception occurs inside a `try` block and there is no matching `except` block, the exception will propagate up the call stack, potentially causing the program to terminate if it is not caught elsewhere."
            ]
        },
        {
            "cell_type": "markdown",
            "metadata": {},
            "source": [
                "### Q4. What is the difference between using a bare except block and specifying a specific exception type?"
            ]
        },
        {
            "cell_type": "markdown",
            "metadata": {},
            "source": [
                "- **Bare Except Block**: Catches all exceptions, regardless of their type. \n",
                "- It is generally not recommended because it can catch unexpected exceptions and make debugging difficult."
            ]
        },
        {
            "cell_type": "code",
            "execution_count": 2,
            "metadata": {},
            "outputs": [],
            "source": [
                "try:\n",
                "    # Code that may raise an exception\n",
                "    pass\n",
                "except:\n",
                "    # Code to handle all exceptions\n",
                "    pass"
            ]
        },
        {
            "cell_type": "markdown",
            "metadata": {},
            "source": [
                "**Specific Exception Type**: Catches only the specified type of exception, making the code more predictable and easier to debug."
            ]
        },
        {
            "cell_type": "code",
            "execution_count": 3,
            "metadata": {},
            "outputs": [],
            "source": [
                "try:\n",
                "    # Code that may raise an exception\n",
                "    pass\n",
                "except ValueError:\n",
                "    # Code to handle ValueError\n",
                "    pass"
            ]
        },
        {
            "cell_type": "markdown",
            "metadata": {},
            "source": [
                "### Q5. Can you have nested try-except blocks in Python? If yes, then give an example."
            ]
        },
        {
            "cell_type": "code",
            "execution_count": 4,
            "metadata": {},
            "outputs": [
                {
                    "name": "stdout",
                    "output_type": "stream",
                    "text": [
                        "0.2\n"
                    ]
                }
            ],
            "source": [
                "try:\n",
                "    x = int(input(\"Enter a number: \"))\n",
                "    try:\n",
                "        result = 10 / x\n",
                "        print(result)\n",
                "    except ZeroDivisionError:\n",
                "        print(\"Cannot divide by zero.\")\n",
                "except ValueError:\n",
                "    print(\"Invalid input. Please enter a valid integer.\")"
            ]
        },
        {
            "cell_type": "markdown",
            "metadata": {},
            "source": [
                "### Q6. Can we use multiple exception blocks? If yes, then give an example."
            ]
        },
        {
            "cell_type": "markdown",
            "metadata": {},
            "source": [
                "Yes, we can use multiple exception blocks to handle different types of exceptions. Here's an example:\n"
            ]
        },
        {
            "cell_type": "code",
            "execution_count": 5,
            "metadata": {},
            "outputs": [
                {
                    "name": "stdout",
                    "output_type": "stream",
                    "text": [
                        "0.14285714285714285\n"
                    ]
                }
            ],
            "source": [
                "try:\n",
                "    x = int(input(\"Enter a number: \"))\n",
                "    result = 10 / x\n",
                "    print(result)\n",
                "except ValueError:\n",
                "    print(\"Invalid input. Please enter a valid integer.\")\n",
                "except ZeroDivisionError:\n",
                "    print(\"Cannot divide by zero.\")"
            ]
        },
        {
            "cell_type": "markdown",
            "metadata": {},
            "source": [
                "Q7. Write the reason due to which the following errors are raised:\n",
                "- EOFError\n",
                "- FloatingPointError\n",
                "- IndexError\n",
                "- MemoryError\n",
                "- OverflowError\n",
                "- TabError\n",
                "- ValueError"
            ]
        },
        {
            "cell_type": "markdown",
            "metadata": {},
            "source": [
                "Reason:\n",
                "- EOFError: Raised when the input() function hits an end-of-file condition (EOF) without reading any data.\n",
                "\n",
                "- FloatingPointError: Raised when a floating-point operation fails.\n",
                "\n",
                "- IndexError: Raised when an index is out of range for a sequence (e.g., list, tuple).\n",
                "\n",
                "- MemoryError: Raised when an operation runs out of memory.\n",
                "\n",
                "- OverflowError: Raised when the result of an arithmetic operation is too large to be represented.\n",
                "\n",
                "- TabError: Raised when inconsistent use of tabs and spaces is detected in indentation.\n",
                "\n",
                "- ValueError: Raised when a function receives an argument of the correct type but an inappropriate value.\n"
            ]
        },
        {
            "cell_type": "markdown",
            "metadata": {},
            "source": [
                "### 8. Write code for the following given scenario and add try-exception block to it.\n",
                "\n",
                "a. Program to divide two numbers\n",
                "\n",
                "b. Program to convert a string to an integer\n",
                "\n",
                "c. Program to access an element in a list\n",
                "\n",
                "d. Program to handle a specific exception\n",
                "\n",
                "e. Program to handle any exception"
            ]
        },
        {
            "cell_type": "markdown",
            "metadata": {},
            "source": [
                "a. Program to divide two numbers\n"
            ]
        },
        {
            "cell_type": "code",
            "execution_count": 6,
            "metadata": {},
            "outputs": [
                {
                    "name": "stdout",
                    "output_type": "stream",
                    "text": [
                        "Result: 2.3333333333333335\n"
                    ]
                }
            ],
            "source": [
                "try:\n",
                "    num1 = float(input(\"Enter the numerator: \"))\n",
                "    num2 = float(input(\"Enter the denominator: \"))\n",
                "    result = num1 / num2\n",
                "    print(f\"Result: {result}\")\n",
                "except ZeroDivisionError:\n",
                "    print(\"Cannot divide by zero.\")\n",
                "except ValueError:\n",
                "    print(\"Invalid input. Please enter a number.\")"
            ]
        },
        {
            "cell_type": "markdown",
            "metadata": {},
            "source": [
                "b. Program to convert a string to an integer\n"
            ]
        },
        {
            "cell_type": "code",
            "execution_count": 7,
            "metadata": {},
            "outputs": [
                {
                    "name": "stdout",
                    "output_type": "stream",
                    "text": [
                        "Converted number: 44\n"
                    ]
                }
            ],
            "source": [
                "try:\n",
                "    num_str = input(\"Enter a string: \")\n",
                "    num = int(num_str)\n",
                "    print(f\"Converted number: {num}\")\n",
                "except ValueError:\n",
                "    print(\"Invalid input. Please enter a valid integer string.\")"
            ]
        },
        {
            "cell_type": "markdown",
            "metadata": {},
            "source": [
                "c. Program to access an element in a list\n"
            ]
        },
        {
            "cell_type": "code",
            "execution_count": 8,
            "metadata": {},
            "outputs": [
                {
                    "name": "stdout",
                    "output_type": "stream",
                    "text": [
                        "Index out of range.\n"
                    ]
                }
            ],
            "source": [
                "try:\n",
                "    my_list = [1, 2, 3, 4, 5]\n",
                "    index = int(input(\"Enter the index: \"))\n",
                "    print(f\"Element at index {index}: {my_list[index]}\")\n",
                "except IndexError:\n",
                "    print(\"Index out of range.\")\n",
                "except ValueError:\n",
                "    print(\"Invalid input. Please enter a valid integer.\")"
            ]
        },
        {
            "cell_type": "markdown",
            "metadata": {},
            "source": [
                "d. Program to handle a specific exception\n"
            ]
        },
        {
            "cell_type": "code",
            "execution_count": 9,
            "metadata": {},
            "outputs": [
                {
                    "name": "stdout",
                    "output_type": "stream",
                    "text": [
                        "0.18181818181818182\n"
                    ]
                }
            ],
            "source": [
                "try:\n",
                "    x = int(input(\"Enter a number: \"))\n",
                "    result = 10 / x\n",
                "    print(result)\n",
                "except ZeroDivisionError:\n",
                "    print(\"Cannot divide by zero.\")"
            ]
        },
        {
            "cell_type": "markdown",
            "metadata": {},
            "source": [
                "e. Program to handle any exception\n"
            ]
        },
        {
            "cell_type": "code",
            "execution_count": 10,
            "metadata": {},
            "outputs": [
                {
                    "name": "stdout",
                    "output_type": "stream",
                    "text": [
                        "0.45454545454545453\n"
                    ]
                }
            ],
            "source": [
                "try:\n",
                "    x = int(input(\"Enter a number: \"))\n",
                "    result = 10 / x\n",
                "    print(result)\n",
                "except Exception as e:\n",
                "    print(f\"An error occurred: {e}\")"
            ]
        }
    ],
    "metadata": {
        "kernelspec": {
            "display_name": "myenv",
            "language": "python",
            "name": "python3"
        },
        "language_info": {
            "codemirror_mode": {
                "name": "ipython",
                "version": 3
            },
            "file_extension": ".py",
            "mimetype": "text/x-python",
            "name": "python",
            "nbconvert_exporter": "python",
            "pygments_lexer": "ipython3",
            "version": "3.12.8"
        }
    },
    "nbformat": 4,
    "nbformat_minor": 2
}
