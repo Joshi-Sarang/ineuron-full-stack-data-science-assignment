{
  "cells": [
    {
      "cell_type": "markdown",
      "metadata": {},
      "source": [
        "**1. What are the two values of the Boolean data type? How do you write them?**"
      ]
    },
    {
      "cell_type": "code",
      "execution_count": 1,
      "metadata": {},
      "outputs": [
        {
          "name": "stdout",
          "output_type": "stream",
          "text": [
            "True False\n"
          ]
        }
      ],
      "source": [
        "# Boolean values in Python\n",
        "true_value = True\n",
        "false_value = False\n",
        "print(true_value, false_value)"
      ]
    },
    {
      "cell_type": "markdown",
      "metadata": {},
      "source": [
        "**2. What are the three different types of Boolean operators?**"
      ]
    },
    {
      "cell_type": "code",
      "execution_count": 2,
      "metadata": {},
      "outputs": [
        {
          "name": "stdout",
          "output_type": "stream",
          "text": [
            "False True False\n"
          ]
        }
      ],
      "source": [
        "# Boolean operators in Python\n",
        "and_operator = True and False\n",
        "or_operator = True or False\n",
        "not_operator = not True\n",
        "print(and_operator, or_operator, not_operator)"
      ]
    },
    {
      "cell_type": "markdown",
      "metadata": {},
      "source": [
        "**3. Boolean operator truth tables**"
      ]
    },
    {
      "cell_type": "code",
      "execution_count": 3,
      "metadata": {},
      "outputs": [
        {
          "name": "stdout",
          "output_type": "stream",
          "text": [
            "True False False False\n",
            "True True True False\n",
            "False True\n"
          ]
        }
      ],
      "source": [
        "# AND truth table\n",
        "print(True and True, True and False, False and True, False and False)\n",
        "# OR truth table\n",
        "print(True or True, True or False, False or True, False or False)\n",
        "# NOT truth table\n",
        "print(not True, not False)"
      ]
    },
    {
      "cell_type": "markdown",
      "metadata": {},
      "source": [
        "**4. Evaluating expressions**"
      ]
    },
    {
      "cell_type": "code",
      "execution_count": 4,
      "metadata": {},
      "outputs": [
        {
          "name": "stdout",
          "output_type": "stream",
          "text": [
            "False\n",
            "False\n",
            "True\n",
            "False\n",
            "False\n",
            "True\n"
          ]
        }
      ],
      "source": [
        "print((5 > 4) and (3 == 5))\n",
        "print(not (5 > 4))\n",
        "print((5 > 4) or (3 == 5))\n",
        "print(not ((5 > 4) or (3 == 5)))\n",
        "print((True and True) and (True == False))\n",
        "print((not False) or (not True))"
      ]
    },
    {
      "cell_type": "markdown",
      "metadata": {},
      "source": [
        "**5. What are the six comparison operators?**"
      ]
    },
    {
      "cell_type": "markdown",
      "metadata": {},
      "source": [
        "`==`, `!=`, `>`, `<`, `>=`, `<=`"
      ]
    },
    {
      "cell_type": "markdown",
      "metadata": {},
      "source": [
        "**6. Difference between equal to (`==`) and assignment (`=`) operators.**"
      ]
    },
    {
      "cell_type": "code",
      "execution_count": 5,
      "metadata": {},
      "outputs": [
        {
          "name": "stdout",
          "output_type": "stream",
          "text": [
            "True\n"
          ]
        }
      ],
      "source": [
        "# Assignment\n",
        "x = 5\n",
        "# Comparison\n",
        "print(x == 5)"
      ]
    },
    {
      "cell_type": "markdown",
      "metadata": {},
      "source": [
        "**7. Identify the three blocks in the given code**"
      ]
    },
    {
      "cell_type": "code",
      "execution_count": 6,
      "metadata": {},
      "outputs": [
        {
          "name": "stdout",
          "output_type": "stream",
          "text": [
            "ham\n",
            "spam\n",
            "spam\n"
          ]
        }
      ],
      "source": [
        "spam = 0\n",
        "if spam == 10:\n",
        "    print('eggs')\n",
        "if spam > 5:\n",
        "    print('bacon')\n",
        "else:\n",
        "    print('ham')\n",
        "print('spam')\n",
        "print('spam')"
      ]
    },
    {
      "cell_type": "markdown",
      "metadata": {},
      "source": [
        "**8. Print statements based on spam value**"
      ]
    },
    {
      "cell_type": "code",
      "execution_count": 7,
      "metadata": {},
      "outputs": [
        {
          "name": "stdout",
          "output_type": "stream",
          "text": [
            "Hello\n"
          ]
        }
      ],
      "source": [
        "spam = int(input('Enter spam value: '))\n",
        "if spam == 1:\n",
        "    print('Hello')\n",
        "elif spam == 2:\n",
        "    print('Howdy')\n",
        "else:\n",
        "    print('Greetings!')"
      ]
    },
    {
      "cell_type": "markdown",
      "metadata": {},
      "source": [
        "**9. If your program is stuck in an endless loop, what keys should you press?**"
      ]
    },
    {
      "cell_type": "markdown",
      "metadata": {},
      "source": [
        "Press `Ctrl + C` to stop execution."
      ]
    },
    {
      "cell_type": "markdown",
      "metadata": {},
      "source": [
        "**10. Difference between break and continue**"
      ]
    },
    {
      "cell_type": "markdown",
      "metadata": {},
      "source": [
        "- `break` exits the loop entirely.\n",
        "- `continue` skips the rest of the current iteration and moves to the next iteration."
      ]
    },
    {
      "cell_type": "markdown",
      "metadata": {},
      "source": [
        "**11. Difference between range(10), range(0,10), and range(0,10,1)**"
      ]
    },
    {
      "cell_type": "markdown",
      "metadata": {},
      "source": [
        "- `range(10)`: Generates numbers from 0 to 9.\n",
        "- `range(0,10)`: Same as `range(10)`, explicitly defining the start as 0.\n",
        "- `range(0,10,1)`: Same as `range(0,10)`, explicitly defining the step as 1."
      ]
    },
    {
      "cell_type": "markdown",
      "metadata": {},
      "source": [
        "**12. Print numbers from 1 to 10 using a for loop and while loop**"
      ]
    },
    {
      "cell_type": "code",
      "execution_count": 8,
      "metadata": {},
      "outputs": [
        {
          "name": "stdout",
          "output_type": "stream",
          "text": [
            "1\n",
            "2\n",
            "3\n",
            "4\n",
            "5\n",
            "6\n",
            "7\n",
            "8\n",
            "9\n",
            "10\n"
          ]
        }
      ],
      "source": [
        "# Using for loop\n",
        "for i in range(1, 11):\n",
        "    print(i)"
      ]
    },
    {
      "cell_type": "code",
      "execution_count": 9,
      "metadata": {},
      "outputs": [
        {
          "name": "stdout",
          "output_type": "stream",
          "text": [
            "1\n",
            "2\n",
            "3\n",
            "4\n",
            "5\n",
            "6\n",
            "7\n",
            "8\n",
            "9\n",
            "10\n"
          ]
        }
      ],
      "source": [
        "# Using while loop\n",
        "i = 1\n",
        "while i <= 10:\n",
        "    print(i)\n",
        "    i += 1"
      ]
    },
    {
      "cell_type": "markdown",
      "metadata": {},
      "source": [
        "**13. Calling function `bacon()` from module `spam`**"
      ]
    },
    {
      "cell_type": "code",
      "execution_count": 1,
      "metadata": {},
      "outputs": [
        {
          "ename": "AttributeError",
          "evalue": "module 'spam' has no attribute 'bacon'",
          "output_type": "error",
          "traceback": [
            "\u001b[0;31m---------------------------------------------------------------------------\u001b[0m",
            "\u001b[0;31mAttributeError\u001b[0m                            Traceback (most recent call last)",
            "Cell \u001b[0;32mIn[1], line 2\u001b[0m\n\u001b[1;32m      1\u001b[0m \u001b[38;5;28;01mimport\u001b[39;00m \u001b[38;5;21;01mspam\u001b[39;00m\n\u001b[0;32m----> 2\u001b[0m \u001b[43mspam\u001b[49m\u001b[38;5;241;43m.\u001b[39;49m\u001b[43mbacon\u001b[49m()\n",
            "\u001b[0;31mAttributeError\u001b[0m: module 'spam' has no attribute 'bacon'"
          ]
        }
      ],
      "source": [
        "import spam\n",
        "spam.bacon()"
      ]
    }
  ],
  "metadata": {
    "kernelspec": {
      "display_name": "ensoapis",
      "language": "python",
      "name": "python3"
    },
    "language_info": {
      "codemirror_mode": {
        "name": "ipython",
        "version": 3
      },
      "file_extension": ".py",
      "mimetype": "text/x-python",
      "name": "python",
      "nbconvert_exporter": "python",
      "pygments_lexer": "ipython3",
      "version": "3.10.14"
    }
  },
  "nbformat": 4,
  "nbformat_minor": 4
}
